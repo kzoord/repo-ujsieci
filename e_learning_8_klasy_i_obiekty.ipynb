{
  "nbformat": 4,
  "nbformat_minor": 0,
  "metadata": {
    "colab": {
      "name": "e learning 8 - klasy i obiekty",
      "provenance": [],
      "authorship_tag": "ABX9TyOQTM2U9zSp/9ifG0sCuZbz",
      "include_colab_link": true
    },
    "kernelspec": {
      "name": "python3",
      "display_name": "Python 3"
    }
  },
  "cells": [
    {
      "cell_type": "markdown",
      "metadata": {
        "id": "view-in-github",
        "colab_type": "text"
      },
      "source": [
        "<a href=\"https://colab.research.google.com/github/kzoord/repo-ujsieci/blob/nowa1/e_learning_8_klasy_i_obiekty.ipynb\" target=\"_parent\"><img src=\"https://colab.research.google.com/assets/colab-badge.svg\" alt=\"Open In Colab\"/></a>"
      ]
    },
    {
      "cell_type": "code",
      "metadata": {
        "id": "o6psa8FBNDpn",
        "colab_type": "code",
        "colab": {}
      },
      "source": [
        "class Pracownik:\n",
        "  pass"
      ],
      "execution_count": 0,
      "outputs": []
    },
    {
      "cell_type": "code",
      "metadata": {
        "id": "QYn0lhq5OGRo",
        "colab_type": "code",
        "colab": {
          "base_uri": "https://localhost:8080/",
          "height": 34
        },
        "outputId": "7bac7a33-e828-4984-90e7-a1b9cfc1c480"
      },
      "source": [
        "janek = Pracownik()\n",
        "\n",
        "janek.nazwa = 'janek Kos'\n",
        "janek.miejsce = 'labolatorium'\n",
        "janek.pensja = 2000\n",
        "\n",
        "print(janek.nazwa, janek.miejsce, janek.pensja)"
      ],
      "execution_count": 2,
      "outputs": [
        {
          "output_type": "stream",
          "text": [
            "janek Kos labolatorium 2000\n"
          ],
          "name": "stdout"
        }
      ]
    },
    {
      "cell_type": "code",
      "metadata": {
        "id": "8T8j3UfwOW-u",
        "colab_type": "code",
        "colab": {}
      },
      "source": [
        "class Pojazd:\n",
        "  nazwa = \"\"\n",
        "  rodzaj = \"auto\"\n",
        "  kolor = \"\"\n",
        "  wartosc = 100.00\n",
        "\n",
        "  def opis(self):\n",
        "    napis_opisu = \"%s to %s %s warty %.2f zl.\" % (self.nazwa, self.kolor, self.rodzaj, self.wartosc)\n",
        "    return napis_opisu\n",
        "\n",
        "\n",
        "\n"
      ],
      "execution_count": 0,
      "outputs": []
    },
    {
      "cell_type": "code",
      "metadata": {
        "id": "h7FddkGBQfTG",
        "colab_type": "code",
        "colab": {
          "base_uri": "https://localhost:8080/",
          "height": 34
        },
        "outputId": "aa2d5d0d-8c49-4456-9413-33c529b204d1"
      },
      "source": [
        "Auto1 = Pojazd()\n",
        "Auto1.kolor=\"czerwony\"\n",
        "Auto1.rodzaj=\"kabriolet\"\n",
        "Auto1.wartosc=60000\n",
        "Auto1.nazwa=\"Ferrari\"\n",
        "\n",
        "Auto2 = Pojazd()\n",
        "Auto2.kolor=\"niebieski\"\n",
        "Auto2.rodzaj=\"autobus\"\n",
        "Auto2.wartosc=10000\n",
        "Auto2.nazwa=\"Ikarus\"\n",
        "\n",
        "\n",
        "print(Auto2.opis())\n"
      ],
      "execution_count": 6,
      "outputs": [
        {
          "output_type": "stream",
          "text": [
            "Ikarus to niebieski autobus warty 10000.00 zl.\n"
          ],
          "name": "stdout"
        }
      ]
    },
    {
      "cell_type": "code",
      "metadata": {
        "id": "csL08ILIPEUe",
        "colab_type": "code",
        "colab": {}
      },
      "source": [
        "#przerób na f-string\n",
        "napis_opisu = \"%s to %s %s warty %.2f zl.\" % (self.nazwa, self.kolor, self.rodzaj, self.wartosc)\n",
        "\n",
        "#linijka z f-string\n",
        "napis_opisu = f\"%s to %s %s warty %.2f zl.\" % (self.nazwa, self.kolor, self.rodzaj, self.wartosc)\n"
      ],
      "execution_count": 0,
      "outputs": []
    },
    {
      "cell_type": "code",
      "metadata": {
        "id": "eCXXtMogRL-q",
        "colab_type": "code",
        "colab": {}
      },
      "source": [
        "class Pracownikv2:\n",
        "  nazwa = \"\"\n",
        "  miejsce = \"\"\n",
        "  wartosc = 1000\n",
        "\n",
        "  def opis(self):\n",
        "    napis = \"%s pracuje w %s i zarabia %.2f zl\" % (self.nazwa, self.miejsce, self.wartosc)\n",
        "    return napis\n",
        "  pass"
      ],
      "execution_count": 0,
      "outputs": []
    },
    {
      "cell_type": "code",
      "metadata": {
        "id": "LMFXvkWERhCg",
        "colab_type": "code",
        "colab": {
          "base_uri": "https://localhost:8080/",
          "height": 34
        },
        "outputId": "66898987-6a6c-493c-9cd2-2bed7edd2707"
      },
      "source": [
        "janek = Pracownikv2()\n",
        "\n",
        "janek.nazwa = 'Janek Kos'\n",
        "janek.miejsce = 'laboratorium komputerowe'\n",
        "janek.pensja = 1000\n",
        "\n",
        "print(janek.opis())"
      ],
      "execution_count": 8,
      "outputs": [
        {
          "output_type": "stream",
          "text": [
            "Janek Kos pracuje w laboratorium komputerowe i zarabia 1000.00 zl\n"
          ],
          "name": "stdout"
        }
      ]
    },
    {
      "cell_type": "code",
      "metadata": {
        "id": "2VsbA5dKRnAs",
        "colab_type": "code",
        "colab": {}
      },
      "source": [
        "import math\n",
        "\n",
        "#zaadnie 1\n",
        "\n"
      ],
      "execution_count": 0,
      "outputs": []
    },
    {
      "cell_type": "code",
      "metadata": {
        "id": "gMNF9uamTjx8",
        "colab_type": "code",
        "colab": {}
      },
      "source": [
        "class Pies:\n",
        "  nazwa = \"\"\n",
        "  energia = 5\n",
        "  wiek = 20\n",
        "  waga = 100\n",
        "  szczepienia = \"\"\n",
        "  sterylizacja = \"\"\n",
        "  odrobaczenie = \"\"\n",
        "  mikroczip = \"\"\n",
        "  telefon = 999999999\n",
        "  charakterystyka_psa = \"\"\n",
        "\n",
        "  def opispieska(self):\n",
        "    notatka = \"%s to piesek, który w skali od 1 do 5 posiada %s stopień energii, ma %s lat i waży %s kg. Szczepienia: %s, sterylizacja: %s, odrobaczenie: %s, mikroczip: %s. Telefon do opiekuna: %s. Na pewno ten piesek to %s\" % (self.nazwa, self.energia, self.wiek, self.waga, self.szczepienia, self.sterylizacja, self.odrobaczenie, self.mikroczip, self.telefon, self.charakterystyka_psa)\n",
        "    return notatka"
      ],
      "execution_count": 0,
      "outputs": []
    },
    {
      "cell_type": "code",
      "metadata": {
        "id": "F3sO2mpgWGvk",
        "colab_type": "code",
        "colab": {}
      },
      "source": [
        ""
      ],
      "execution_count": 0,
      "outputs": []
    },
    {
      "cell_type": "code",
      "metadata": {
        "id": "LHFR_CUBSScq",
        "colab_type": "code",
        "colab": {
          "base_uri": "https://localhost:8080/",
          "height": 54
        },
        "outputId": "7bbe3742-aa6e-4833-ad5a-ba86093b8589"
      },
      "source": [
        "Balbinka = Pies()\n",
        "\n",
        "Balbinka.nazwa = \"Balbinka\"\n",
        "Balbinka.energia = 3\n",
        "Balbinka.wiek = 5\n",
        "Balbinka.waga = 11\n",
        "Balbinka.szczepienia = \"Tak\"\n",
        "Balbinka.sterylizacja = \"Tak\"\n",
        "Balbinka.odrobaczenie = \"Tak\"\n",
        "Balbinka.mikroczip = \"Tak\"\n",
        "Balbinka.telefon = 605720376\n",
        "Balbinka.charakterystyka_psa = \"Dobra przyjaciółka\"\n",
        "\n",
        "print (Balbinka.opispieska())"
      ],
      "execution_count": 16,
      "outputs": [
        {
          "output_type": "stream",
          "text": [
            "Balbinka to piesek, który w skali od 1 do 5 posiada 3 stopień energii, ma 5 lat i waży 11 kg. Szczepienia: Tak, sterylizacja: Tak, odrobaczenie: Tak, mikroczip: Tak. Telefon do opiekuna: 605720376. Na pewno ten piesek to Dobra przyjaciółka\n"
          ],
          "name": "stdout"
        }
      ]
    },
    {
      "cell_type": "code",
      "metadata": {
        "id": "_dCMUaFfUnsi",
        "colab_type": "code",
        "colab": {
          "base_uri": "https://localhost:8080/",
          "height": 54
        },
        "outputId": "5551159c-3cd2-4e31-f560-0099a13f8407"
      },
      "source": [
        "Heban = Pies()\n",
        "\n",
        "Heban.nazwa = \"Heban\"\n",
        "Heban.energia = 4\n",
        "Heban.wiek = 3\n",
        "Heban.waga = 35\n",
        "Heban.szczepienia = \"Tak\"\n",
        "Heban.sterylizacja = \"Tak\"\n",
        "Heban.odrobaczenie = \"Tak\"\n",
        "Heban.mikroczip = \"Tak\"\n",
        "Heban.telefon = 509188082\n",
        "Heban.charakterystyka_psa = \"Piesek rodzinny\"\n",
        "\n",
        "import math\n",
        "\n",
        "Melo = Pies()\n",
        "\n",
        "Melo.nazwa = \"Melo\"\n",
        "Melo.energia = 3\n",
        "Melo.wiek = math.nan\n",
        "Melo.waga = 10\n",
        "Melo.szczepienia = \"Tak\"\n",
        "Melo.sterylizacja = \"Tak\"\n",
        "Melo.odrobaczenie = \"Tak\"\n",
        "Melo.mikroczip = \"Tak\"\n",
        "Melo.telefon = 509188082\n",
        "Melo.charakterystyka_psa = \"Kochany pies, wymagający doświadczonego i spokojnego opiekuna\"\n",
        "\n",
        "print (Melo.opispieska())"
      ],
      "execution_count": 19,
      "outputs": [
        {
          "output_type": "stream",
          "text": [
            "Melo to piesek, który w skali od 1 do 5 posiada 3 stopień energii, ma nan lat i waży 10 kg. Szczepienia: Tak, sterylizacja: Tak, odrobaczenie: Tak, mikroczip: Tak. Telefon do opiekuna: 509188082. Na pewno ten piesek to Kochany pies, wymagający doświadczonego i spokojnego opiekuna\n"
          ],
          "name": "stdout"
        }
      ]
    },
    {
      "cell_type": "code",
      "metadata": {
        "id": "yHf5pDA3Ya4o",
        "colab_type": "code",
        "colab": {}
      },
      "source": [
        ""
      ],
      "execution_count": 0,
      "outputs": []
    }
  ]
}