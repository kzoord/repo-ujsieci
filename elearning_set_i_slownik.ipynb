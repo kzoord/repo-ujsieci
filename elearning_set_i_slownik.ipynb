{
  "nbformat": 4,
  "nbformat_minor": 0,
  "metadata": {
    "colab": {
      "name": "elearning set i slownik.ipynb",
      "provenance": [],
      "authorship_tag": "ABX9TyNV8wqHlixPuN4EEwU2eVSS",
      "include_colab_link": true
    },
    "kernelspec": {
      "name": "python3",
      "display_name": "Python 3"
    }
  },
  "cells": [
    {
      "cell_type": "markdown",
      "metadata": {
        "id": "view-in-github",
        "colab_type": "text"
      },
      "source": [
        "<a href=\"https://colab.research.google.com/github/kzoord/repo-ujsieci/blob/nowa1/elearning_set_i_slownik.ipynb\" target=\"_parent\"><img src=\"https://colab.research.google.com/assets/colab-badge.svg\" alt=\"Open In Colab\"/></a>"
      ]
    },
    {
      "cell_type": "code",
      "metadata": {
        "id": "7vx3x6KDA_ZV",
        "colab_type": "code",
        "colab": {}
      },
      "source": [
        "#1 zadanie\n",
        "games_set = set([\"Gwent\", \"HS\", \"Hots\", \"Wolf Among US\", \"HS\"])"
      ],
      "execution_count": 0,
      "outputs": []
    },
    {
      "cell_type": "code",
      "metadata": {
        "id": "Usd3JdkTBTQJ",
        "colab_type": "code",
        "colab": {
          "base_uri": "https://localhost:8080/",
          "height": 163
        },
        "outputId": "820716c7-9334-4e70-e39c-6ca6d74b8038"
      },
      "source": [
        "games_set()"
      ],
      "execution_count": 2,
      "outputs": [
        {
          "output_type": "error",
          "ename": "TypeError",
          "evalue": "ignored",
          "traceback": [
            "\u001b[0;31m---------------------------------------------------------------------------\u001b[0m",
            "\u001b[0;31mTypeError\u001b[0m                                 Traceback (most recent call last)",
            "\u001b[0;32m<ipython-input-2-ee8ae8025bdf>\u001b[0m in \u001b[0;36m<module>\u001b[0;34m()\u001b[0m\n\u001b[0;32m----> 1\u001b[0;31m \u001b[0mgames_set\u001b[0m\u001b[0;34m(\u001b[0m\u001b[0;34m)\u001b[0m\u001b[0;34m\u001b[0m\u001b[0;34m\u001b[0m\u001b[0m\n\u001b[0m",
            "\u001b[0;31mTypeError\u001b[0m: 'set' object is not callable"
          ]
        }
      ]
    },
    {
      "cell_type": "code",
      "metadata": {
        "id": "82yeYsTDBoGh",
        "colab_type": "code",
        "colab": {
          "base_uri": "https://localhost:8080/",
          "height": 34
        },
        "outputId": "83852b43-f263-48f4-87d9-fc16c32aa88a"
      },
      "source": [
        "#zadanie 2 \n",
        "set(games_set)"
      ],
      "execution_count": 3,
      "outputs": [
        {
          "output_type": "execute_result",
          "data": {
            "text/plain": [
              "{'Gwent', 'HS', 'Hots', 'Wolf Among US'}"
            ]
          },
          "metadata": {
            "tags": []
          },
          "execution_count": 3
        }
      ]
    },
    {
      "cell_type": "code",
      "metadata": {
        "id": "sGnToYTOB7pp",
        "colab_type": "code",
        "colab": {
          "base_uri": "https://localhost:8080/",
          "height": 51
        },
        "outputId": "a7944e0b-cf75-42e8-a51c-0f2dc545d7c2"
      },
      "source": [
        "#zadanie 3\n",
        "print (\"Liczba elementów zbioru games_set to:\", games_set)\n",
        "len (games_set)\n",
        "\n"
      ],
      "execution_count": 25,
      "outputs": [
        {
          "output_type": "stream",
          "text": [
            "Liczba elementów zbioru games_set to: {'Wolf Among US', 'Hots', 'Gwent', 'HS'}\n"
          ],
          "name": "stdout"
        },
        {
          "output_type": "execute_result",
          "data": {
            "text/plain": [
              "4"
            ]
          },
          "metadata": {
            "tags": []
          },
          "execution_count": 25
        }
      ]
    },
    {
      "cell_type": "code",
      "metadata": {
        "id": "m2bxO7ofCc-x",
        "colab_type": "code",
        "colab": {
          "base_uri": "https://localhost:8080/",
          "height": 51
        },
        "outputId": "f161ad42-73dc-4b2d-e522-d5a284472af3"
      },
      "source": [
        "#zadanie 4\n",
        "gierka = input(\"Podaj nazwę gry: \")\n",
        "\n",
        "if gierka in games_set:\n",
        "    print (gierka, \"należy do zbioru games_set\")\n",
        "else:\n",
        "    print (gierka, \"nie należy do zbioru games_set\")"
      ],
      "execution_count": 27,
      "outputs": [
        {
          "output_type": "stream",
          "text": [
            "Podaj nazwę gry: AC2\n",
            "AC2 nie należy do zbioru games_set\n"
          ],
          "name": "stdout"
        }
      ]
    },
    {
      "cell_type": "code",
      "metadata": {
        "id": "OOOZpZXwFU9S",
        "colab_type": "code",
        "colab": {
          "base_uri": "https://localhost:8080/",
          "height": 34
        },
        "outputId": "fa3b94bc-b2db-4580-e61b-14b34f7815d8"
      },
      "source": [
        "#zadanie 5\n",
        "games_set.add(\"Dishonored\")\n",
        "print (games_set)"
      ],
      "execution_count": 30,
      "outputs": [
        {
          "output_type": "stream",
          "text": [
            "{'Wolf Among US', 'Dishonored', 'Gwent', 'HS', 'Hots'}\n"
          ],
          "name": "stdout"
        }
      ]
    },
    {
      "cell_type": "code",
      "metadata": {
        "id": "ReYlm6_fFtXC",
        "colab_type": "code",
        "colab": {
          "base_uri": "https://localhost:8080/",
          "height": 34
        },
        "outputId": "15bd35d9-7f82-4839-9e71-ade433073ea6"
      },
      "source": [
        "#zadanie 6\n",
        "karcianki_set = set([\"Gwent\", \"HS\"])\n",
        "\n",
        "karcianki_set.issubset(games_set)"
      ],
      "execution_count": 32,
      "outputs": [
        {
          "output_type": "execute_result",
          "data": {
            "text/plain": [
              "True"
            ]
          },
          "metadata": {
            "tags": []
          },
          "execution_count": 32
        }
      ]
    },
    {
      "cell_type": "code",
      "metadata": {
        "id": "F9k1xpXAGK-7",
        "colab_type": "code",
        "colab": {
          "base_uri": "https://localhost:8080/",
          "height": 54
        },
        "outputId": "57b6209f-25fc-43d3-87e3-6cd98bb2d7bf"
      },
      "source": [
        "#Zadania ze słownika\n",
        "#zadanie 1\n",
        "\n",
        "HP_books_1ed_dict = {\"26.06.97\":\"Harry Potter and the Philosopher's Stone\", \"02.07.98\":\"Harry Potter and the Chamber of Secrets\", \"08.07.99\":\"Harry Potter and the Prisoner of Azkaban\", \"08.07.00\":\"Harry Potter and the Goblet of Fire\", \"21.06.03\":\"Harry Potter and the Order of the Phoenix\", \"16.07.05\":\"Harry Potter and the Half-Blood Prince\", \"21.07.07\":\"Harry Potter and the Deathly Hallows\"}\n",
        "print (HP_books_1ed_dict)"
      ],
      "execution_count": 33,
      "outputs": [
        {
          "output_type": "stream",
          "text": [
            "{'26.06.97': \"Harry Potter and the Philosopher's Stone\", '02.07.98': 'Harry Potter and the Chamber of Secrets', '08.07.99': 'Harry Potter and the Prisoner of Azkaban', '08.07.00': 'Harry Potter and the Goblet of Fire', '21.06.03': 'Harry Potter and the Order of the Phoenix', '16.07.05': 'Harry Potter and the Half-Blood Prince', '21.07.07': 'Harry Potter and the Deathly Hallows'}\n"
          ],
          "name": "stdout"
        }
      ]
    },
    {
      "cell_type": "code",
      "metadata": {
        "id": "6o93fq3hITZn",
        "colab_type": "code",
        "colab": {
          "base_uri": "https://localhost:8080/",
          "height": 54
        },
        "outputId": "984973ee-5461-4496-9c04-5c20cc274eab"
      },
      "source": [
        "#zadanie 2\n",
        "\n",
        "HP_books_1ed_dict[\"2000\"] = \"Fantastic Beasts and Where to Find Them\"\n",
        "print (HP_books_1ed_dict)"
      ],
      "execution_count": 34,
      "outputs": [
        {
          "output_type": "stream",
          "text": [
            "{'26.06.97': \"Harry Potter and the Philosopher's Stone\", '02.07.98': 'Harry Potter and the Chamber of Secrets', '08.07.99': 'Harry Potter and the Prisoner of Azkaban', '08.07.00': 'Harry Potter and the Goblet of Fire', '21.06.03': 'Harry Potter and the Order of the Phoenix', '16.07.05': 'Harry Potter and the Half-Blood Prince', '21.07.07': 'Harry Potter and the Deathly Hallows', '2000': 'Fantastic Beasts and Where to Find Them'}\n"
          ],
          "name": "stdout"
        }
      ]
    },
    {
      "cell_type": "code",
      "metadata": {
        "id": "FXMbtsAyInEc",
        "colab_type": "code",
        "colab": {
          "base_uri": "https://localhost:8080/",
          "height": 350
        },
        "outputId": "d88a2daf-4b65-40e8-b846-099e8172e89f"
      },
      "source": [
        "#zadanie 3\n",
        "\n",
        "nazwa_klucza = \"08.07.99\"\n",
        "\n",
        "wartosc_klucza = [value for value, value in HP_books_1ed_dict.items() if key == nazwa_klucza] [2]\n",
        "\n",
        "print (wartosc_klucza)\n",
        "\n"
      ],
      "execution_count": 42,
      "outputs": [
        {
          "output_type": "error",
          "ename": "NameError",
          "evalue": "ignored",
          "traceback": [
            "\u001b[0;31m---------------------------------------------------------------------------\u001b[0m",
            "\u001b[0;31mNameError\u001b[0m                                 Traceback (most recent call last)",
            "\u001b[0;32m<ipython-input-42-1aa852a35f99>\u001b[0m in \u001b[0;36m<module>\u001b[0;34m()\u001b[0m\n\u001b[1;32m      2\u001b[0m \u001b[0mnazwa_klucza\u001b[0m \u001b[0;34m=\u001b[0m \u001b[0;34m\"08.07.99\"\u001b[0m\u001b[0;34m\u001b[0m\u001b[0;34m\u001b[0m\u001b[0m\n\u001b[1;32m      3\u001b[0m \u001b[0;34m\u001b[0m\u001b[0m\n\u001b[0;32m----> 4\u001b[0;31m \u001b[0mwartosc_klucza\u001b[0m \u001b[0;34m=\u001b[0m \u001b[0;34m[\u001b[0m\u001b[0mvalue\u001b[0m \u001b[0;32mfor\u001b[0m \u001b[0mvalue\u001b[0m\u001b[0;34m,\u001b[0m \u001b[0mvalue\u001b[0m \u001b[0;32min\u001b[0m \u001b[0mHP_books_1ed_dict\u001b[0m\u001b[0;34m.\u001b[0m\u001b[0mitems\u001b[0m\u001b[0;34m(\u001b[0m\u001b[0;34m)\u001b[0m \u001b[0;32mif\u001b[0m \u001b[0mkey\u001b[0m \u001b[0;34m==\u001b[0m \u001b[0mnazwa_klucza\u001b[0m\u001b[0;34m]\u001b[0m \u001b[0;34m[\u001b[0m\u001b[0;36m2\u001b[0m\u001b[0;34m]\u001b[0m\u001b[0;34m\u001b[0m\u001b[0;34m\u001b[0m\u001b[0m\n\u001b[0m\u001b[1;32m      5\u001b[0m \u001b[0;34m\u001b[0m\u001b[0m\n\u001b[1;32m      6\u001b[0m \u001b[0mprint\u001b[0m \u001b[0;34m(\u001b[0m\u001b[0mwartosc_klucza\u001b[0m\u001b[0;34m)\u001b[0m\u001b[0;34m\u001b[0m\u001b[0;34m\u001b[0m\u001b[0m\n",
            "\u001b[0;32m<ipython-input-42-1aa852a35f99>\u001b[0m in \u001b[0;36m<listcomp>\u001b[0;34m(.0)\u001b[0m\n\u001b[1;32m      2\u001b[0m \u001b[0mnazwa_klucza\u001b[0m \u001b[0;34m=\u001b[0m \u001b[0;34m\"08.07.99\"\u001b[0m\u001b[0;34m\u001b[0m\u001b[0;34m\u001b[0m\u001b[0m\n\u001b[1;32m      3\u001b[0m \u001b[0;34m\u001b[0m\u001b[0m\n\u001b[0;32m----> 4\u001b[0;31m \u001b[0mwartosc_klucza\u001b[0m \u001b[0;34m=\u001b[0m \u001b[0;34m[\u001b[0m\u001b[0mvalue\u001b[0m \u001b[0;32mfor\u001b[0m \u001b[0mvalue\u001b[0m\u001b[0;34m,\u001b[0m \u001b[0mvalue\u001b[0m \u001b[0;32min\u001b[0m \u001b[0mHP_books_1ed_dict\u001b[0m\u001b[0;34m.\u001b[0m\u001b[0mitems\u001b[0m\u001b[0;34m(\u001b[0m\u001b[0;34m)\u001b[0m \u001b[0;32mif\u001b[0m \u001b[0mkey\u001b[0m \u001b[0;34m==\u001b[0m \u001b[0mnazwa_klucza\u001b[0m\u001b[0;34m]\u001b[0m \u001b[0;34m[\u001b[0m\u001b[0;36m2\u001b[0m\u001b[0;34m]\u001b[0m\u001b[0;34m\u001b[0m\u001b[0;34m\u001b[0m\u001b[0m\n\u001b[0m\u001b[1;32m      5\u001b[0m \u001b[0;34m\u001b[0m\u001b[0m\n\u001b[1;32m      6\u001b[0m \u001b[0mprint\u001b[0m \u001b[0;34m(\u001b[0m\u001b[0mwartosc_klucza\u001b[0m\u001b[0;34m)\u001b[0m\u001b[0;34m\u001b[0m\u001b[0;34m\u001b[0m\u001b[0m\n",
            "\u001b[0;31mNameError\u001b[0m: name 'key' is not defined"
          ]
        }
      ]
    },
    {
      "cell_type": "code",
      "metadata": {
        "id": "YCu-F77FJ83V",
        "colab_type": "code",
        "colab": {
          "base_uri": "https://localhost:8080/",
          "height": 34
        },
        "outputId": "aa1427b1-a165-4e74-ef0c-5a9a89cefbe8"
      },
      "source": [
        "#zadanie 4\n",
        "\n",
        "nazwa_ksiazki = \"Harry Potter and the Goblet of Fire\"\n",
        "\n",
        "klucz_ksiazki = [key for key, value in HP_books_1ed_dict.items() if value == nazwa_ksiazki] [0]\n",
        "\n",
        "print (klucz_ksiazki)"
      ],
      "execution_count": 44,
      "outputs": [
        {
          "output_type": "stream",
          "text": [
            "08.07.00\n"
          ],
          "name": "stdout"
        }
      ]
    },
    {
      "cell_type": "code",
      "metadata": {
        "id": "-TkUz8azMZBn",
        "colab_type": "code",
        "colab": {}
      },
      "source": [
        ""
      ],
      "execution_count": 0,
      "outputs": []
    }
  ]
}