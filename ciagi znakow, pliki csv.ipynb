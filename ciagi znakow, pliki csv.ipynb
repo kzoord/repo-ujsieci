{
  "nbformat": 4,
  "nbformat_minor": 0,
  "metadata": {
    "colab": {
      "name": "Untitled",
      "provenance": [],
      "authorship_tag": "ABX9TyNbIj9cytVDsq0HQK6aznEv",
      "include_colab_link": true
    },
    "kernelspec": {
      "name": "python3",
      "display_name": "Python 3"
    }
  },
  "cells": [
    {
      "cell_type": "markdown",
      "metadata": {
        "id": "view-in-github",
        "colab_type": "text"
      },
      "source": [
        "<a href=\"https://colab.research.google.com/github/kzoord/repo-ujsieci/blob/nowa1/ciagi%20znakow%2C%20pliki%20csv.ipynb\" target=\"_parent\"><img src=\"https://colab.research.google.com/assets/colab-badge.svg\" alt=\"Open In Colab\"/></a>"
      ]
    },
    {
      "cell_type": "code",
      "metadata": {
        "id": "7JFVfWu5RotR",
        "colab_type": "code",
        "colab": {
          "base_uri": "https://localhost:8080/",
          "height": 204
        },
        "outputId": "79fcbbad-65c7-4131-94a4-c931ec4a4134"
      },
      "source": [
        "import pandas as pd\n",
        "\n",
        "dane = pd.read_csv('wybor_teatrow.csv')\n",
        "\n",
        "dane.head(5)"
      ],
      "execution_count": 1,
      "outputs": [
        {
          "output_type": "execute_result",
          "data": {
            "text/html": [
              "<div>\n",
              "<style scoped>\n",
              "    .dataframe tbody tr th:only-of-type {\n",
              "        vertical-align: middle;\n",
              "    }\n",
              "\n",
              "    .dataframe tbody tr th {\n",
              "        vertical-align: top;\n",
              "    }\n",
              "\n",
              "    .dataframe thead th {\n",
              "        text-align: right;\n",
              "    }\n",
              "</style>\n",
              "<table border=\"1\" class=\"dataframe\">\n",
              "  <thead>\n",
              "    <tr style=\"text-align: right;\">\n",
              "      <th></th>\n",
              "      <th>lp</th>\n",
              "      <th>teatr</th>\n",
              "      <th>obrazki</th>\n",
              "      <th>plansza</th>\n",
              "      <th>suma</th>\n",
              "    </tr>\n",
              "  </thead>\n",
              "  <tbody>\n",
              "    <tr>\n",
              "      <th>0</th>\n",
              "      <td>1</td>\n",
              "      <td>Krakowski Teatr Scena STU</td>\n",
              "      <td>3</td>\n",
              "      <td>1</td>\n",
              "      <td>4</td>\n",
              "    </tr>\n",
              "    <tr>\n",
              "      <th>1</th>\n",
              "      <td>2</td>\n",
              "      <td>Krakowski Teatr Variété</td>\n",
              "      <td>0</td>\n",
              "      <td>4</td>\n",
              "      <td>4</td>\n",
              "    </tr>\n",
              "    <tr>\n",
              "      <th>2</th>\n",
              "      <td>3</td>\n",
              "      <td>Narodowy Stary Teatr im. Heleny Modrzejewskiej</td>\n",
              "      <td>2</td>\n",
              "      <td>3</td>\n",
              "      <td>5</td>\n",
              "    </tr>\n",
              "    <tr>\n",
              "      <th>3</th>\n",
              "      <td>4</td>\n",
              "      <td>Opera Krakowska</td>\n",
              "      <td>1</td>\n",
              "      <td>1</td>\n",
              "      <td>2</td>\n",
              "    </tr>\n",
              "    <tr>\n",
              "      <th>4</th>\n",
              "      <td>5</td>\n",
              "      <td>Teatr Barakah</td>\n",
              "      <td>1</td>\n",
              "      <td>1</td>\n",
              "      <td>2</td>\n",
              "    </tr>\n",
              "  </tbody>\n",
              "</table>\n",
              "</div>"
            ],
            "text/plain": [
              "   lp                                           teatr  obrazki  plansza  suma\n",
              "0   1                       Krakowski Teatr Scena STU        3        1     4\n",
              "1   2                         Krakowski Teatr Variété        0        4     4\n",
              "2   3  Narodowy Stary Teatr im. Heleny Modrzejewskiej        2        3     5\n",
              "3   4                                 Opera Krakowska        1        1     2\n",
              "4   5                                   Teatr Barakah        1        1     2"
            ]
          },
          "metadata": {
            "tags": []
          },
          "execution_count": 1
        }
      ]
    },
    {
      "cell_type": "code",
      "metadata": {
        "id": "sq6LFiTvSWDq",
        "colab_type": "code",
        "colab": {}
      },
      "source": [
        "f = open(\"A_SCANDAL_IN_BOHEMIA.txt\", \"r\")"
      ],
      "execution_count": 0,
      "outputs": []
    },
    {
      "cell_type": "code",
      "metadata": {
        "id": "IlJEgHh7SueM",
        "colab_type": "code",
        "colab": {
          "base_uri": "https://localhost:8080/",
          "height": 51
        },
        "outputId": "1611c9ed-64ba-4344-c421-0639cd8c2fa8"
      },
      "source": [
        "print(f.readline())"
      ],
      "execution_count": 6,
      "outputs": [
        {
          "output_type": "stream",
          "text": [
            "﻿I. A SCANDAL IN BOHEMIA\n",
            "\n"
          ],
          "name": "stdout"
        }
      ]
    },
    {
      "cell_type": "code",
      "metadata": {
        "id": "JXcvDqhaS9HB",
        "colab_type": "code",
        "colab": {}
      },
      "source": [
        "f.close()"
      ],
      "execution_count": 0,
      "outputs": []
    },
    {
      "cell_type": "code",
      "metadata": {
        "id": "LyRcWPZ5S_d6",
        "colab_type": "code",
        "colab": {
          "base_uri": "https://localhost:8080/",
          "height": 142
        },
        "outputId": "7cfda1c8-8a85-4980-960a-f0ede27715bd"
      },
      "source": [
        "#zadanie 1 \n",
        "\n",
        "dane.head(3)"
      ],
      "execution_count": 8,
      "outputs": [
        {
          "output_type": "execute_result",
          "data": {
            "text/html": [
              "<div>\n",
              "<style scoped>\n",
              "    .dataframe tbody tr th:only-of-type {\n",
              "        vertical-align: middle;\n",
              "    }\n",
              "\n",
              "    .dataframe tbody tr th {\n",
              "        vertical-align: top;\n",
              "    }\n",
              "\n",
              "    .dataframe thead th {\n",
              "        text-align: right;\n",
              "    }\n",
              "</style>\n",
              "<table border=\"1\" class=\"dataframe\">\n",
              "  <thead>\n",
              "    <tr style=\"text-align: right;\">\n",
              "      <th></th>\n",
              "      <th>lp</th>\n",
              "      <th>teatr</th>\n",
              "      <th>obrazki</th>\n",
              "      <th>plansza</th>\n",
              "      <th>suma</th>\n",
              "    </tr>\n",
              "  </thead>\n",
              "  <tbody>\n",
              "    <tr>\n",
              "      <th>0</th>\n",
              "      <td>1</td>\n",
              "      <td>Krakowski Teatr Scena STU</td>\n",
              "      <td>3</td>\n",
              "      <td>1</td>\n",
              "      <td>4</td>\n",
              "    </tr>\n",
              "    <tr>\n",
              "      <th>1</th>\n",
              "      <td>2</td>\n",
              "      <td>Krakowski Teatr Variété</td>\n",
              "      <td>0</td>\n",
              "      <td>4</td>\n",
              "      <td>4</td>\n",
              "    </tr>\n",
              "    <tr>\n",
              "      <th>2</th>\n",
              "      <td>3</td>\n",
              "      <td>Narodowy Stary Teatr im. Heleny Modrzejewskiej</td>\n",
              "      <td>2</td>\n",
              "      <td>3</td>\n",
              "      <td>5</td>\n",
              "    </tr>\n",
              "  </tbody>\n",
              "</table>\n",
              "</div>"
            ],
            "text/plain": [
              "   lp                                           teatr  obrazki  plansza  suma\n",
              "0   1                       Krakowski Teatr Scena STU        3        1     4\n",
              "1   2                         Krakowski Teatr Variété        0        4     4\n",
              "2   3  Narodowy Stary Teatr im. Heleny Modrzejewskiej        2        3     5"
            ]
          },
          "metadata": {
            "tags": []
          },
          "execution_count": 8
        }
      ]
    },
    {
      "cell_type": "code",
      "metadata": {
        "id": "KZr-UsEfTbOm",
        "colab_type": "code",
        "colab": {
          "base_uri": "https://localhost:8080/",
          "height": 901
        },
        "outputId": "2d06b10d-098d-4276-cab3-3c39f6b634cf"
      },
      "source": [
        "#zadanie 2\n",
        "\n",
        "f = open(\"AliceInWonderland.txt\", \"r\")\n",
        "\n",
        "i=0\n",
        "while i<26:\n",
        "  print(\"Oto linijki\", i, f.readline())\n",
        "  i+=1\n"
      ],
      "execution_count": 10,
      "outputs": [
        {
          "output_type": "stream",
          "text": [
            "Oto linijki 0 ﻿CHAPTER I. Down the Rabbit-Hole\n",
            "\n",
            "Oto linijki 1 \n",
            "\n",
            "Oto linijki 2 Alice was beginning to get very tired of sitting by her sister on the\n",
            "\n",
            "Oto linijki 3 bank, and of having nothing to do: once or twice she had peeped into the\n",
            "\n",
            "Oto linijki 4 book her sister was reading, but it had no pictures or conversations in\n",
            "\n",
            "Oto linijki 5 it, ‘and what is the use of a book,’ thought Alice ‘without pictures or\n",
            "\n",
            "Oto linijki 6 conversations?’\n",
            "\n",
            "Oto linijki 7 \n",
            "\n",
            "Oto linijki 8 So she was considering in her own mind (as well as she could, for the\n",
            "\n",
            "Oto linijki 9 hot day made her feel very sleepy and stupid), whether the pleasure\n",
            "\n",
            "Oto linijki 10 of making a daisy-chain would be worth the trouble of getting up and\n",
            "\n",
            "Oto linijki 11 picking the daisies, when suddenly a White Rabbit with pink eyes ran\n",
            "\n",
            "Oto linijki 12 close by her.\n",
            "\n",
            "Oto linijki 13 \n",
            "\n",
            "Oto linijki 14 There was nothing so VERY remarkable in that; nor did Alice think it so\n",
            "\n",
            "Oto linijki 15 VERY much out of the way to hear the Rabbit say to itself, ‘Oh dear!\n",
            "\n",
            "Oto linijki 16 Oh dear! I shall be late!’ (when she thought it over afterwards, it\n",
            "\n",
            "Oto linijki 17 occurred to her that she ought to have wondered at this, but at the time\n",
            "\n",
            "Oto linijki 18 it all seemed quite natural); but when the Rabbit actually TOOK A WATCH\n",
            "\n",
            "Oto linijki 19 OUT OF ITS WAISTCOAT-POCKET, and looked at it, and then hurried on,\n",
            "\n",
            "Oto linijki 20 Alice started to her feet, for it flashed across her mind that she had\n",
            "\n",
            "Oto linijki 21 never before seen a rabbit with either a waistcoat-pocket, or a watch\n",
            "\n",
            "Oto linijki 22 to take out of it, and burning with curiosity, she ran across the field\n",
            "\n",
            "Oto linijki 23 after it, and fortunately was just in time to see it pop down a large\n",
            "\n",
            "Oto linijki 24 rabbit-hole under the hedge.\n",
            "\n",
            "Oto linijki 25 \n",
            "\n"
          ],
          "name": "stdout"
        }
      ]
    },
    {
      "cell_type": "code",
      "metadata": {
        "id": "hUxoczj2TyES",
        "colab_type": "code",
        "colab": {}
      },
      "source": [
        ""
      ],
      "execution_count": 0,
      "outputs": []
    }
  ]
}