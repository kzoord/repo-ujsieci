{
  "nbformat": 4,
  "nbformat_minor": 0,
  "metadata": {
    "colab": {
      "name": "Untitled1.ipynb",
      "provenance": [],
      "authorship_tag": "ABX9TyMB2MOE3xWV0jF8WN+b5qcD",
      "include_colab_link": true
    },
    "kernelspec": {
      "name": "python3",
      "display_name": "Python 3"
    }
  },
  "cells": [
    {
      "cell_type": "markdown",
      "metadata": {
        "id": "view-in-github",
        "colab_type": "text"
      },
      "source": [
        "<a href=\"https://colab.research.google.com/github/kzoord/repo-ujsieci/blob/nowa1/elearning%205.ipynb\" target=\"_parent\"><img src=\"https://colab.research.google.com/assets/colab-badge.svg\" alt=\"Open In Colab\"/></a>"
      ]
    },
    {
      "cell_type": "code",
      "metadata": {
        "id": "_RuAVw55ulcu",
        "colab_type": "code",
        "colab": {
          "base_uri": "https://localhost:8080/",
          "height": 187
        },
        "outputId": "280b08fd-97dc-403b-818f-dbc4478fbc71"
      },
      "source": [
        "#zadanie1\n",
        "\n",
        "ciagznakow = [\"l\",\"i\",\"t\",\"e\",\"r\",\"a\",\"t\",\"u\",\"r\",\"a\"]\n",
        "\n",
        "for wypisanie in ciagznakow:\n",
        "  print(wypisanie)"
      ],
      "execution_count": 1,
      "outputs": [
        {
          "output_type": "stream",
          "text": [
            "l\n",
            "i\n",
            "t\n",
            "e\n",
            "r\n",
            "a\n",
            "t\n",
            "u\n",
            "r\n",
            "a\n"
          ],
          "name": "stdout"
        }
      ]
    },
    {
      "cell_type": "code",
      "metadata": {
        "colab_type": "code",
        "outputId": "2082bb5c-7896-4c08-d5a0-51e55aba56f9",
        "id": "uHgEZcv8YUue",
        "colab": {
          "base_uri": "https://localhost:8080/",
          "height": 102
        }
      },
      "source": [
        "#zadanie 2 - teoria relewancji\n",
        "\n",
        "def TR():\n",
        "  n = int(input(\"Ile razy wyświelić napis? Podaj liczbę: \"))\n",
        "  i = 0\n",
        "  while i<n:\n",
        "    print(i+1, \"Teoria relewancji\")\n",
        "    i+=1\n",
        "\n",
        "TR()\n",
        "\n",
        "\n",
        "\n"
      ],
      "execution_count": 8,
      "outputs": [
        {
          "output_type": "stream",
          "text": [
            "ERROR! Session/line number was not unique in database. History logging moved to new session 60\n",
            "Ile razy wyświelić napis? Podaj liczbę: 3\n",
            "1 Teoria relewancji\n",
            "2 Teoria relewancji\n",
            "3 Teoria relewancji\n"
          ],
          "name": "stdout"
        }
      ]
    },
    {
      "cell_type": "code",
      "metadata": {
        "id": "pB8F0n3YesfD",
        "colab_type": "code",
        "colab": {
          "base_uri": "https://localhost:8080/",
          "height": 51
        },
        "outputId": "2afdda33-996a-4ecd-fff9-82203d18b772"
      },
      "source": [
        "#zadanie 3\n",
        "\n",
        "def jakirok():\n",
        "  n = int(input(\"Podaj rok:\"))\n",
        "  if n%4 == 0:\n",
        "    print(n,\",\", \"Twój rok jest przestępny\")\n",
        "  else:\n",
        "      print(n, \",\", \"Twój rok nie jest przestępny\")\n",
        "\n",
        "jakirok()\n"
      ],
      "execution_count": 11,
      "outputs": [
        {
          "output_type": "stream",
          "text": [
            "Podaj rok:2000\n",
            "2000 , Twój rok jest przestępny\n"
          ],
          "name": "stdout"
        }
      ]
    },
    {
      "cell_type": "code",
      "metadata": {
        "id": "HDX60COpgF_I",
        "colab_type": "code",
        "colab": {}
      },
      "source": [
        ""
      ],
      "execution_count": 0,
      "outputs": []
    }
  ]
}