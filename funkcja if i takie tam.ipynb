{
  "nbformat": 4,
  "nbformat_minor": 0,
  "metadata": {
    "colab": {
      "name": "Untitled1.ipynb",
      "provenance": [],
      "toc_visible": true,
      "authorship_tag": "ABX9TyP6VWXZjVNrlQgz9g0spfbz",
      "include_colab_link": true
    },
    "kernelspec": {
      "name": "python3",
      "display_name": "Python 3"
    }
  },
  "cells": [
    {
      "cell_type": "markdown",
      "metadata": {
        "id": "view-in-github",
        "colab_type": "text"
      },
      "source": [
        "<a href=\"https://colab.research.google.com/github/kzoord/repo-ujsieci/blob/nowa1/funkcja%20if%20i%20takie%20tam.ipynb\" target=\"_parent\"><img src=\"https://colab.research.google.com/assets/colab-badge.svg\" alt=\"Open In Colab\"/></a>"
      ]
    },
    {
      "cell_type": "code",
      "metadata": {
        "id": "dK3MJDs2il1g",
        "colab_type": "code",
        "colab": {}
      },
      "source": [
        "Pirates = [\"The Curse of the Black Pearl\", \"Dead Man's Chest\", \"At World's End\"]\n"
      ],
      "execution_count": 0,
      "outputs": []
    },
    {
      "cell_type": "code",
      "metadata": {
        "id": "2IK-bYA5jVRi",
        "colab_type": "code",
        "colab": {
          "base_uri": "https://localhost:8080/",
          "height": 34
        },
        "outputId": "5412e620-073e-47c1-caeb-95eb2f2d1b2a"
      },
      "source": [
        "Pirates"
      ],
      "execution_count": 4,
      "outputs": [
        {
          "output_type": "execute_result",
          "data": {
            "text/plain": [
              "['The Curse of the Black Pearl', \"Dead Man's Chest\", \"At World's End\"]"
            ]
          },
          "metadata": {
            "tags": []
          },
          "execution_count": 4
        }
      ]
    },
    {
      "cell_type": "code",
      "metadata": {
        "id": "KraRTB6ijWwB",
        "colab_type": "code",
        "colab": {
          "base_uri": "https://localhost:8080/",
          "height": 34
        },
        "outputId": "5649fd43-b987-4bbd-d469-0847f64e4792"
      },
      "source": [
        "#sprawdzam liczbę elementów z listy\n",
        "len(Pirates)"
      ],
      "execution_count": 6,
      "outputs": [
        {
          "output_type": "execute_result",
          "data": {
            "text/plain": [
              "3"
            ]
          },
          "metadata": {
            "tags": []
          },
          "execution_count": 6
        }
      ]
    },
    {
      "cell_type": "code",
      "metadata": {
        "id": "KpeiqY6SjdBf",
        "colab_type": "code",
        "colab": {}
      },
      "source": [
        "Pirates.append(\"kononmajor\")"
      ],
      "execution_count": 0,
      "outputs": []
    },
    {
      "cell_type": "code",
      "metadata": {
        "id": "2jRhRK2Wj8DY",
        "colab_type": "code",
        "colab": {
          "base_uri": "https://localhost:8080/",
          "height": 102
        },
        "outputId": "62803f38-58b8-4fb2-95e2-f9f85ac271e7"
      },
      "source": [
        "Pirates"
      ],
      "execution_count": 9,
      "outputs": [
        {
          "output_type": "execute_result",
          "data": {
            "text/plain": [
              "['The Curse of the Black Pearl',\n",
              " \"Dead Man's Chest\",\n",
              " \"At World's End\",\n",
              " \"Dead Man's Chest\",\n",
              " 'kononmajor']"
            ]
          },
          "metadata": {
            "tags": []
          },
          "execution_count": 9
        }
      ]
    },
    {
      "cell_type": "code",
      "metadata": {
        "id": "9b3hlHK5kCSr",
        "colab_type": "code",
        "colab": {
          "base_uri": "https://localhost:8080/",
          "height": 102
        },
        "outputId": "870bd6ee-dfb0-47c5-f59a-a45b0ffe659d"
      },
      "source": [
        "Pirates"
      ],
      "execution_count": 10,
      "outputs": [
        {
          "output_type": "execute_result",
          "data": {
            "text/plain": [
              "['The Curse of the Black Pearl',\n",
              " \"Dead Man's Chest\",\n",
              " \"At World's End\",\n",
              " \"Dead Man's Chest\",\n",
              " 'kononmajor']"
            ]
          },
          "metadata": {
            "tags": []
          },
          "execution_count": 10
        }
      ]
    },
    {
      "cell_type": "code",
      "metadata": {
        "id": "9Embyk1GkFKA",
        "colab_type": "code",
        "colab": {}
      },
      "source": [
        "Pirates.append(\"BajlonTheMovie\")"
      ],
      "execution_count": 0,
      "outputs": []
    },
    {
      "cell_type": "code",
      "metadata": {
        "id": "J-S2d3HZkNpq",
        "colab_type": "code",
        "colab": {
          "base_uri": "https://localhost:8080/",
          "height": 119
        },
        "outputId": "92f0ec1e-343f-4287-85d8-2b8a4d0f4386"
      },
      "source": [
        "Pirates"
      ],
      "execution_count": 12,
      "outputs": [
        {
          "output_type": "execute_result",
          "data": {
            "text/plain": [
              "['The Curse of the Black Pearl',\n",
              " \"Dead Man's Chest\",\n",
              " \"At World's End\",\n",
              " \"Dead Man's Chest\",\n",
              " 'kononmajor',\n",
              " 'BajlonTheMovie']"
            ]
          },
          "metadata": {
            "tags": []
          },
          "execution_count": 12
        }
      ]
    },
    {
      "cell_type": "code",
      "metadata": {
        "id": "yAZkxHeOkP7n",
        "colab_type": "code",
        "colab": {}
      },
      "source": [
        "Pirates.append(\"Krzysiu - Muzyka to Pasja\")"
      ],
      "execution_count": 0,
      "outputs": []
    },
    {
      "cell_type": "code",
      "metadata": {
        "id": "ftykkDC1kZ2M",
        "colab_type": "code",
        "colab": {
          "base_uri": "https://localhost:8080/",
          "height": 136
        },
        "outputId": "502877ca-5213-42df-ec2c-9670d3c2a912"
      },
      "source": [
        "#append daje wartość na koniec \n",
        "#instert daje tam gdzie chcemy \n",
        "#indeksowanie zaczyna sie od  uguem 0\n",
        "Pirates"
      ],
      "execution_count": 14,
      "outputs": [
        {
          "output_type": "execute_result",
          "data": {
            "text/plain": [
              "['The Curse of the Black Pearl',\n",
              " \"Dead Man's Chest\",\n",
              " \"At World's End\",\n",
              " \"Dead Man's Chest\",\n",
              " 'kononmajor',\n",
              " 'BajlonTheMovie',\n",
              " 'Krzysiu - Muzyka to Pasja']"
            ]
          },
          "metadata": {
            "tags": []
          },
          "execution_count": 14
        }
      ]
    },
    {
      "cell_type": "code",
      "metadata": {
        "id": "pkXMOGarkakP",
        "colab_type": "code",
        "colab": {}
      },
      "source": [
        "Pirates.insert(1, \"Intermajor\")"
      ],
      "execution_count": 0,
      "outputs": []
    },
    {
      "cell_type": "code",
      "metadata": {
        "id": "S2BjAjFzk-JJ",
        "colab_type": "code",
        "colab": {
          "base_uri": "https://localhost:8080/",
          "height": 34
        },
        "outputId": "a0abb810-ca36-4a06-b072-52eebc70d389"
      },
      "source": [
        "Pirates[1]"
      ],
      "execution_count": 16,
      "outputs": [
        {
          "output_type": "execute_result",
          "data": {
            "text/plain": [
              "'Intermajor'"
            ]
          },
          "metadata": {
            "tags": []
          },
          "execution_count": 16
        }
      ]
    },
    {
      "cell_type": "code",
      "metadata": {
        "id": "GX0bDuuPlcw9",
        "colab_type": "code",
        "colab": {
          "base_uri": "https://localhost:8080/",
          "height": 34
        },
        "outputId": "82cfa29c-6f22-4f8f-e0e8-12605ff4ee6c"
      },
      "source": [
        "\"Orbit\" in Pirates"
      ],
      "execution_count": 17,
      "outputs": [
        {
          "output_type": "execute_result",
          "data": {
            "text/plain": [
              "False"
            ]
          },
          "metadata": {
            "tags": []
          },
          "execution_count": 17
        }
      ]
    },
    {
      "cell_type": "code",
      "metadata": {
        "id": "qVANgWglmII1",
        "colab_type": "code",
        "colab": {
          "base_uri": "https://localhost:8080/",
          "height": 34
        },
        "outputId": "01a8a73d-702e-4094-fb3f-9e7de94b0e27"
      },
      "source": [
        "\"Intermajor\" in Pirates"
      ],
      "execution_count": 19,
      "outputs": [
        {
          "output_type": "execute_result",
          "data": {
            "text/plain": [
              "True"
            ]
          },
          "metadata": {
            "tags": []
          },
          "execution_count": 19
        }
      ]
    },
    {
      "cell_type": "code",
      "metadata": {
        "id": "aAYHUC65mLGy",
        "colab_type": "code",
        "colab": {
          "base_uri": "https://localhost:8080/",
          "height": 34
        },
        "outputId": "441e851a-f7ab-4dd1-ac3b-d60b4bc4f09e"
      },
      "source": [
        "type(Pirates)"
      ],
      "execution_count": 20,
      "outputs": [
        {
          "output_type": "execute_result",
          "data": {
            "text/plain": [
              "list"
            ]
          },
          "metadata": {
            "tags": []
          },
          "execution_count": 20
        }
      ]
    },
    {
      "cell_type": "code",
      "metadata": {
        "id": "578V_VkXmnVO",
        "colab_type": "code",
        "colab": {
          "base_uri": "https://localhost:8080/",
          "height": 51
        },
        "outputId": "fac5136b-3f15-4905-91f9-7d90842fd64e"
      },
      "source": [
        "x = input(\"Podaj swoje imię: \")\n",
        "print(\"Hello, \" + x)\n"
      ],
      "execution_count": 21,
      "outputs": [
        {
          "output_type": "stream",
          "text": [
            "Podaj swoje imię: SuperGraczSuperStrzelaWCsGoAWP\n",
            "Hello, SuperGraczSuperStrzelaWCsGoAWP\n"
          ],
          "name": "stdout"
        }
      ]
    },
    {
      "cell_type": "code",
      "metadata": {
        "id": "81x4AEYtniAI",
        "colab_type": "code",
        "colab": {
          "base_uri": "https://localhost:8080/",
          "height": 129
        },
        "outputId": "2b1d88cd-bce6-46df-bbee-af5229ac17e7"
      },
      "source": [
        "x = input(\"Czy ziemia jest płaska: \")\n",
        "y = input(\"Czy ziemia jest półpłaska: \")\n",
        "print(x + \",\" +y \",Płaska?\")\n"
      ],
      "execution_count": 38,
      "outputs": [
        {
          "output_type": "error",
          "ename": "SyntaxError",
          "evalue": "ignored",
          "traceback": [
            "\u001b[0;36m  File \u001b[0;32m\"<ipython-input-38-00a9e93ff0ea>\"\u001b[0;36m, line \u001b[0;32m3\u001b[0m\n\u001b[0;31m    print(x + \",\" +y \",Płaska?\")\u001b[0m\n\u001b[0m                              ^\u001b[0m\n\u001b[0;31mSyntaxError\u001b[0m\u001b[0;31m:\u001b[0m invalid syntax\n"
          ]
        }
      ]
    },
    {
      "cell_type": "code",
      "metadata": {
        "id": "x2Cejdd1npSO",
        "colab_type": "code",
        "colab": {}
      },
      "source": [
        "DC = [\"Green Arrow\", \"Flash\", \"Iron Man\", \"Batman\"]"
      ],
      "execution_count": 0,
      "outputs": []
    },
    {
      "cell_type": "code",
      "metadata": {
        "id": "EWgU4juMpTTy",
        "colab_type": "code",
        "colab": {
          "base_uri": "https://localhost:8080/",
          "height": 34
        },
        "outputId": "6fe4be53-0d01-4da3-aed6-372f872383ea"
      },
      "source": [
        "print (DC)"
      ],
      "execution_count": 40,
      "outputs": [
        {
          "output_type": "stream",
          "text": [
            "['Green Arrow', 'Flash', 'Iron Man', 'Batman']\n"
          ],
          "name": "stdout"
        }
      ]
    },
    {
      "cell_type": "code",
      "metadata": {
        "id": "2qIVgVXNpVWD",
        "colab_type": "code",
        "colab": {
          "base_uri": "https://localhost:8080/",
          "height": 34
        },
        "outputId": "4b86f153-df08-4916-9200-12004d37fcdd"
      },
      "source": [
        "len(DC)"
      ],
      "execution_count": 41,
      "outputs": [
        {
          "output_type": "execute_result",
          "data": {
            "text/plain": [
              "4"
            ]
          },
          "metadata": {
            "tags": []
          },
          "execution_count": 41
        }
      ]
    },
    {
      "cell_type": "code",
      "metadata": {
        "id": "qq3GOr1jpYmA",
        "colab_type": "code",
        "colab": {
          "base_uri": "https://localhost:8080/",
          "height": 34
        },
        "outputId": "d2ae8193-bc21-46c2-b199-dd324a8223a5"
      },
      "source": [
        "DC.index(\"Iron Man\")"
      ],
      "execution_count": 42,
      "outputs": [
        {
          "output_type": "execute_result",
          "data": {
            "text/plain": [
              "2"
            ]
          },
          "metadata": {
            "tags": []
          },
          "execution_count": 42
        }
      ]
    },
    {
      "cell_type": "code",
      "metadata": {
        "id": "Y60BPEoTpoKR",
        "colab_type": "code",
        "colab": {}
      },
      "source": [
        "DC.remove(\"Iron Man\")"
      ],
      "execution_count": 0,
      "outputs": []
    },
    {
      "cell_type": "code",
      "metadata": {
        "id": "i9SGjRVzpu1u",
        "colab_type": "code",
        "colab": {
          "base_uri": "https://localhost:8080/",
          "height": 34
        },
        "outputId": "157d18af-2660-47a9-c9ff-bcfc1ee0ef59"
      },
      "source": [
        "print(DC)"
      ],
      "execution_count": 45,
      "outputs": [
        {
          "output_type": "stream",
          "text": [
            "['Green Arrow', 'Flash', 'Batman']\n"
          ],
          "name": "stdout"
        }
      ]
    },
    {
      "cell_type": "code",
      "metadata": {
        "id": "igB1TTH_pyzG",
        "colab_type": "code",
        "colab": {
          "base_uri": "https://localhost:8080/",
          "height": 34
        },
        "outputId": "8bfc5d98-cb48-4f1e-b3d1-3f6fa4c0e0f2"
      },
      "source": [
        "len(DC)"
      ],
      "execution_count": 46,
      "outputs": [
        {
          "output_type": "execute_result",
          "data": {
            "text/plain": [
              "3"
            ]
          },
          "metadata": {
            "tags": []
          },
          "execution_count": 46
        }
      ]
    },
    {
      "cell_type": "code",
      "metadata": {
        "id": "pkyT5ifIp1Fh",
        "colab_type": "code",
        "colab": {}
      },
      "source": [
        "DC.append(\"SuperMan\")"
      ],
      "execution_count": 0,
      "outputs": []
    },
    {
      "cell_type": "code",
      "metadata": {
        "id": "uQGIIVw7p4Um",
        "colab_type": "code",
        "colab": {
          "base_uri": "https://localhost:8080/",
          "height": 34
        },
        "outputId": "e5fc1257-e1db-4ee5-aa00-30dc0aa4f72a"
      },
      "source": [
        "len(DC)"
      ],
      "execution_count": 48,
      "outputs": [
        {
          "output_type": "execute_result",
          "data": {
            "text/plain": [
              "4"
            ]
          },
          "metadata": {
            "tags": []
          },
          "execution_count": 48
        }
      ]
    },
    {
      "cell_type": "code",
      "metadata": {
        "id": "Mue7C9d7p5Wu",
        "colab_type": "code",
        "colab": {
          "base_uri": "https://localhost:8080/",
          "height": 34
        },
        "outputId": "3f781b8a-3a1c-4441-929e-58d33e32c131"
      },
      "source": [
        "print(DC)"
      ],
      "execution_count": 49,
      "outputs": [
        {
          "output_type": "stream",
          "text": [
            "['Green Arrow', 'Flash', 'Batman', 'SuperMan']\n"
          ],
          "name": "stdout"
        }
      ]
    },
    {
      "cell_type": "code",
      "metadata": {
        "id": "qRLuAJ_mp7wi",
        "colab_type": "code",
        "colab": {}
      },
      "source": [
        "DC.insert(3, \"Joker\")"
      ],
      "execution_count": 0,
      "outputs": []
    },
    {
      "cell_type": "code",
      "metadata": {
        "id": "wSREfeZuqA9C",
        "colab_type": "code",
        "colab": {
          "base_uri": "https://localhost:8080/",
          "height": 34
        },
        "outputId": "a04d4a56-5c12-4684-9ad1-19d2fa314689"
      },
      "source": [
        "print(DC)"
      ],
      "execution_count": 51,
      "outputs": [
        {
          "output_type": "stream",
          "text": [
            "['Green Arrow', 'Flash', 'Batman', 'Joker', 'SuperMan']\n"
          ],
          "name": "stdout"
        }
      ]
    },
    {
      "cell_type": "code",
      "metadata": {
        "id": "-TAA1QeLqCDX",
        "colab_type": "code",
        "colab": {
          "base_uri": "https://localhost:8080/",
          "height": 34
        },
        "outputId": "db833456-a48a-4bfe-de39-cdad89e7fc06"
      },
      "source": [
        "if \"Green Arrow\" in DC:\n",
        "  DC.append(\"Black Canary\")\n",
        "  print (DC)\n",
        "else:\n",
        "  print (\"nie ma tutaj Green Arrow\")\n"
      ],
      "execution_count": 53,
      "outputs": [
        {
          "output_type": "stream",
          "text": [
            "['Green Arrow', 'Flash', 'Batman', 'Joker', 'SuperMan', 'Black Canary', 'Black Canary']\n"
          ],
          "name": "stdout"
        }
      ]
    },
    {
      "cell_type": "code",
      "metadata": {
        "id": "xf58Zlv4qtf1",
        "colab_type": "code",
        "colab": {}
      },
      "source": [
        ""
      ],
      "execution_count": 0,
      "outputs": []
    }
  ]
}