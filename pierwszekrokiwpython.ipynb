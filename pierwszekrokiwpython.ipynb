{
  "nbformat": 4,
  "nbformat_minor": 0,
  "metadata": {
    "colab": {
      "name": "Untitled0.ipynb",
      "provenance": [],
      "toc_visible": true,
      "authorship_tag": "ABX9TyOb5uiKlNL9L33GlDj1XNSE",
      "include_colab_link": true
    },
    "kernelspec": {
      "name": "python3",
      "display_name": "Python 3"
    }
  },
  "cells": [
    {
      "cell_type": "markdown",
      "metadata": {
        "id": "view-in-github",
        "colab_type": "text"
      },
      "source": [
        "<a href=\"https://colab.research.google.com/github/kzoord/repo-ujsieci/blob/master/pierwszekrokiwpython.ipynb\" target=\"_parent\"><img src=\"https://colab.research.google.com/assets/colab-badge.svg\" alt=\"Open In Colab\"/></a>"
      ]
    },
    {
      "cell_type": "markdown",
      "metadata": {
        "id": "aTAxvOVKe9IK",
        "colab_type": "text"
      },
      "source": [
        "# Sieci zajęcia elo\n",
        "\n"
      ]
    },
    {
      "cell_type": "markdown",
      "metadata": {
        "id": "jaRtdK97fH-R",
        "colab_type": "text"
      },
      "source": [
        "Działania matematyczne\n"
      ]
    },
    {
      "cell_type": "code",
      "metadata": {
        "id": "XyemMPsje2Dg",
        "colab_type": "code",
        "colab": {}
      },
      "source": [
        "x = 10\n",
        "x = x + 7\n"
      ],
      "execution_count": 0,
      "outputs": []
    },
    {
      "cell_type": "code",
      "metadata": {
        "id": "B9phlHtKfuOd",
        "colab_type": "code",
        "colab": {
          "base_uri": "https://localhost:8080/",
          "height": 34
        },
        "outputId": "1d0f3d2b-1dac-46dd-d339-234b683e924f"
      },
      "source": [
        "print (x)"
      ],
      "execution_count": 2,
      "outputs": [
        {
          "output_type": "stream",
          "text": [
            "17\n"
          ],
          "name": "stdout"
        }
      ]
    },
    {
      "cell_type": "code",
      "metadata": {
        "id": "nZKBGptDf1jL",
        "colab_type": "code",
        "colab": {
          "base_uri": "https://localhost:8080/",
          "height": 34
        },
        "outputId": "155b59c5-a7ec-4584-c60c-fe7cf208fd7e"
      },
      "source": [
        "y = 9\n",
        "y += 7\n",
        "print (y)"
      ],
      "execution_count": 3,
      "outputs": [
        {
          "output_type": "stream",
          "text": [
            "16\n"
          ],
          "name": "stdout"
        }
      ]
    },
    {
      "cell_type": "code",
      "metadata": {
        "id": "_tR5MFCPgHX5",
        "colab_type": "code",
        "colab": {
          "base_uri": "https://localhost:8080/",
          "height": 34
        },
        "outputId": "782b8910-9413-4e11-e66d-0f4dd3cd6bea"
      },
      "source": [
        "print (x/2)"
      ],
      "execution_count": 4,
      "outputs": [
        {
          "output_type": "stream",
          "text": [
            "8.5\n"
          ],
          "name": "stdout"
        }
      ]
    },
    {
      "cell_type": "code",
      "metadata": {
        "id": "IxyyeY60gQ3I",
        "colab_type": "code",
        "colab": {
          "base_uri": "https://localhost:8080/",
          "height": 34
        },
        "outputId": "d9a290e9-7ad3-4964-8375-9a460f7499b7"
      },
      "source": [
        "print (x*3)"
      ],
      "execution_count": 5,
      "outputs": [
        {
          "output_type": "stream",
          "text": [
            "51\n"
          ],
          "name": "stdout"
        }
      ]
    },
    {
      "cell_type": "code",
      "metadata": {
        "id": "M-b6gl3HgUva",
        "colab_type": "code",
        "colab": {
          "base_uri": "https://localhost:8080/",
          "height": 34
        },
        "outputId": "37dc6b7b-eeec-4cd6-9d4e-f30e57a8146d"
      },
      "source": [
        "\n",
        "print (\"sala\"*3)"
      ],
      "execution_count": 7,
      "outputs": [
        {
          "output_type": "stream",
          "text": [
            "salasalasala\n"
          ],
          "name": "stdout"
        }
      ]
    },
    {
      "cell_type": "code",
      "metadata": {
        "id": "K4xE7nCtgZz0",
        "colab_type": "code",
        "colab": {
          "base_uri": "https://localhost:8080/",
          "height": 34
        },
        "outputId": "161cbe59-f9e9-41bf-d605-487692b52347"
      },
      "source": [
        "print (x)"
      ],
      "execution_count": 8,
      "outputs": [
        {
          "output_type": "stream",
          "text": [
            "17\n"
          ],
          "name": "stdout"
        }
      ]
    },
    {
      "cell_type": "code",
      "metadata": {
        "id": "jhxSaxDzgtC-",
        "colab_type": "code",
        "colab": {
          "base_uri": "https://localhost:8080/",
          "height": 34
        },
        "outputId": "b42d4c2d-e1cf-4481-f0af-27735b10e9b3"
      },
      "source": [
        "print (\"sala\"*3)"
      ],
      "execution_count": 14,
      "outputs": [
        {
          "output_type": "stream",
          "text": [
            "salasalasala\n"
          ],
          "name": "stdout"
        }
      ]
    },
    {
      "cell_type": "code",
      "metadata": {
        "id": "DSIjjbxAhOrr",
        "colab_type": "code",
        "colab": {}
      },
      "source": [
        "#można dodawać i pomnożyć ciag znaków \n",
        "#nie można pomnożyć tekstu z tekstem"
      ],
      "execution_count": 0,
      "outputs": []
    },
    {
      "cell_type": "code",
      "metadata": {
        "id": "xTHQx1weiJey",
        "colab_type": "code",
        "colab": {
          "base_uri": "https://localhost:8080/",
          "height": 129
        },
        "outputId": "a89b5aca-f9d9-409a-9d30-1533133d9939"
      },
      "source": [
        "23 = \"blabla\"\n",
        "print (23)"
      ],
      "execution_count": 15,
      "outputs": [
        {
          "output_type": "error",
          "ename": "SyntaxError",
          "evalue": "ignored",
          "traceback": [
            "\u001b[0;36m  File \u001b[0;32m\"<ipython-input-15-3a8e0af79d2c>\"\u001b[0;36m, line \u001b[0;32m1\u001b[0m\n\u001b[0;31m    23 = \"blabla\"\u001b[0m\n\u001b[0m                 ^\u001b[0m\n\u001b[0;31mSyntaxError\u001b[0m\u001b[0;31m:\u001b[0m can't assign to literal\n"
          ]
        }
      ]
    },
    {
      "cell_type": "code",
      "metadata": {
        "id": "wULnTHk1iaTl",
        "colab_type": "code",
        "colab": {
          "base_uri": "https://localhost:8080/",
          "height": 34
        },
        "outputId": "8f748796-eaa5-4bc2-f6ac-0ecdba97594d"
      },
      "source": [
        "Oskar = \"student\"\n",
        "oskar = \"słaby student\"\n",
        "print (oskar)"
      ],
      "execution_count": 18,
      "outputs": [
        {
          "output_type": "stream",
          "text": [
            "słaby student\n"
          ],
          "name": "stdout"
        }
      ]
    },
    {
      "cell_type": "code",
      "metadata": {
        "id": "_gIImu7Bi2y6",
        "colab_type": "code",
        "colab": {}
      },
      "source": [
        "#‒\tMuszą zaczynać się od litery lub podkreślenia\n",
        "#‒\tMogą zawierać litery, cyfry, podkreślenia (bez polskich znaków)\n",
        "#‒\tWielkość znaków ma znaczenie\n",
        "#‒\tPewne słowa są zarezerwowane np. do funkcji i metod  tych zarezerwowanych słów nie stosuje się do nazywania zmiennych\n",
        "#‒\tNazwy zmiennych mają nieść znaczenie!\n"
      ],
      "execution_count": 0,
      "outputs": []
    },
    {
      "cell_type": "code",
      "metadata": {
        "id": "PLN0vATcjrYh",
        "colab_type": "code",
        "colab": {
          "base_uri": "https://localhost:8080/",
          "height": 34
        },
        "outputId": "01dc6563-c6ae-4fb8-f0dd-32f8f922e86e"
      },
      "source": [
        "type(3)"
      ],
      "execution_count": 19,
      "outputs": [
        {
          "output_type": "execute_result",
          "data": {
            "text/plain": [
              "int"
            ]
          },
          "metadata": {
            "tags": []
          },
          "execution_count": 19
        }
      ]
    },
    {
      "cell_type": "code",
      "metadata": {
        "id": "9C4BuD6-k93Q",
        "colab_type": "code",
        "colab": {
          "base_uri": "https://localhost:8080/",
          "height": 34
        },
        "outputId": "74e1fede-caa9-4204-b1af-555c6c449b44"
      },
      "source": [
        "type(3.7)"
      ],
      "execution_count": 22,
      "outputs": [
        {
          "output_type": "execute_result",
          "data": {
            "text/plain": [
              "float"
            ]
          },
          "metadata": {
            "tags": []
          },
          "execution_count": 22
        }
      ]
    },
    {
      "cell_type": "code",
      "metadata": {
        "id": "c4LM2uLilAIw",
        "colab_type": "code",
        "colab": {
          "base_uri": "https://localhost:8080/",
          "height": 34
        },
        "outputId": "6007638a-3f09-4a1e-8859-b9935dfa3fe4"
      },
      "source": [
        "type(3)"
      ],
      "execution_count": 23,
      "outputs": [
        {
          "output_type": "execute_result",
          "data": {
            "text/plain": [
              "int"
            ]
          },
          "metadata": {
            "tags": []
          },
          "execution_count": 23
        }
      ]
    },
    {
      "cell_type": "code",
      "metadata": {
        "id": "aHgx6hHYlbTz",
        "colab_type": "code",
        "colab": {
          "base_uri": "https://localhost:8080/",
          "height": 34
        },
        "outputId": "22d38006-37cf-4d6c-da62-43a6ef2b9be9"
      },
      "source": [
        "obecnosc = True\n",
        "type(obecnosc)"
      ],
      "execution_count": 26,
      "outputs": [
        {
          "output_type": "execute_result",
          "data": {
            "text/plain": [
              "bool"
            ]
          },
          "metadata": {
            "tags": []
          },
          "execution_count": 26
        }
      ]
    },
    {
      "cell_type": "code",
      "metadata": {
        "id": "Koe5D0Xplg7S",
        "colab_type": "code",
        "colab": {
          "base_uri": "https://localhost:8080/",
          "height": 34
        },
        "outputId": "f9b299e5-de51-43b4-fd33-2461f75d246c"
      },
      "source": [
        "a = 10\n",
        "b = 2\n",
        "a != b"
      ],
      "execution_count": 28,
      "outputs": [
        {
          "output_type": "execute_result",
          "data": {
            "text/plain": [
              "True"
            ]
          },
          "metadata": {
            "tags": []
          },
          "execution_count": 28
        }
      ]
    },
    {
      "cell_type": "code",
      "metadata": {
        "id": "oamCrT2Tl8-z",
        "colab_type": "code",
        "colab": {
          "base_uri": "https://localhost:8080/",
          "height": 34
        },
        "outputId": "b3589653-7787-4e22-8a0b-38f06a8b2337"
      },
      "source": [
        "z = \"maciej\"\n",
        "x = \"bernacki\"\n",
        "z == x"
      ],
      "execution_count": 30,
      "outputs": [
        {
          "output_type": "execute_result",
          "data": {
            "text/plain": [
              "False"
            ]
          },
          "metadata": {
            "tags": []
          },
          "execution_count": 30
        }
      ]
    },
    {
      "cell_type": "code",
      "metadata": {
        "id": "Kd2ojsTwmHzy",
        "colab_type": "code",
        "colab": {}
      },
      "source": [
        "#‒\tporównanie ==\n",
        "#‒\tmniejsze niż <\n",
        "#‒\tmniejsze niż lub równe <=\n",
        "#‒\tnierówne\n"
      ],
      "execution_count": 0,
      "outputs": []
    },
    {
      "cell_type": "code",
      "metadata": {
        "id": "hQn9UljWm4Ha",
        "colab_type": "code",
        "colab": {}
      },
      "source": [
        "#Return the length (the number of items) of an object. The argument may be a sequence (such as a string, bytes, tuple, list, or range) or a collection (such as a dictionary, set, or frozen set).\n",
        "\n"
      ],
      "execution_count": 0,
      "outputs": []
    },
    {
      "cell_type": "code",
      "metadata": {
        "id": "NE9ENfr-nWn4",
        "colab_type": "code",
        "colab": {
          "base_uri": "https://localhost:8080/",
          "height": 34
        },
        "outputId": "6b2f1447-c540-4f8d-a9ba-3939da67239e"
      },
      "source": [
        "x = \"calasala\"\n",
        "len(x)"
      ],
      "execution_count": 32,
      "outputs": [
        {
          "output_type": "execute_result",
          "data": {
            "text/plain": [
              "8"
            ]
          },
          "metadata": {
            "tags": []
          },
          "execution_count": 32
        }
      ]
    },
    {
      "cell_type": "code",
      "metadata": {
        "id": "UnHdRNSLnYnZ",
        "colab_type": "code",
        "colab": {
          "base_uri": "https://localhost:8080/",
          "height": 34
        },
        "outputId": "0918c014-b7c2-4269-bd4b-9ac1955cebc6"
      },
      "source": [
        "#tworze listę org - []\n",
        "org = [\"Dog Rescue\", \"Animal Patrol\", \"Koze\"]\n",
        "len(org)"
      ],
      "execution_count": 33,
      "outputs": [
        {
          "output_type": "execute_result",
          "data": {
            "text/plain": [
              "3"
            ]
          },
          "metadata": {
            "tags": []
          },
          "execution_count": 33
        }
      ]
    },
    {
      "cell_type": "code",
      "metadata": {
        "id": "PHmGGudtoITc",
        "colab_type": "code",
        "colab": {}
      },
      "source": [
        ""
      ],
      "execution_count": 0,
      "outputs": []
    }
  ]
}